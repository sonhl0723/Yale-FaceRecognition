{
 "cells": [
  {
   "cell_type": "markdown",
   "id": "e62259e9",
   "metadata": {},
   "source": [
    "# Import Module"
   ]
  },
  {
   "cell_type": "code",
   "execution_count": 107,
   "id": "51f14075",
   "metadata": {},
   "outputs": [],
   "source": [
    "from art.attacks.evasion import FastGradientMethod, BasicIterativeMethod, ProjectedGradientDescent, ProjectedGradientDescentPyTorch\n",
    "from art.metrics import empirical_robustness\n",
    "import timeit\n",
    "from art.estimators.classification import PyTorchClassifier\n",
    "import numpy as np\n",
    "from torch.utils.data import DataLoader, random_split, TensorDataset\n",
    "from torch.nn.functional import nll_loss\n",
    "from torchvision import transforms, datasets\n",
    "from torch import optim\n",
    "import os\n",
    "import torch\n",
    "from PIL import Image\n",
    "import matplotlib.pyplot as plt\n",
    "from torch import nn\n",
    "from torch.autograd import Variable\n",
    "from art.metrics import wasserstein_distance\n",
    "\n",
    "%matplotlib inline"
   ]
  },
  {
   "cell_type": "markdown",
   "id": "dc8c86da",
   "metadata": {},
   "source": [
    "# Preprocessing Data Load"
   ]
  },
  {
   "cell_type": "code",
   "execution_count": 3,
   "id": "9e9e3fa2",
   "metadata": {},
   "outputs": [],
   "source": [
    "trans = transforms.Compose([transforms.Resize((150,150)),\n",
    "                            transforms.ToTensor(),\n",
    "                            transforms.Grayscale(num_output_channels=1)\n",
    "                            ])\n",
    "dataset = datasets.ImageFolder(root = './preprocessing/', transform = trans)\n",
    "\n",
    "train_dataset, test_dataset  = random_split(dataset, [130,34])"
   ]
  },
  {
   "cell_type": "markdown",
   "id": "b976d039",
   "metadata": {},
   "source": [
    "# Convert Dataset To Array"
   ]
  },
  {
   "cell_type": "code",
   "execution_count": 5,
   "id": "d82d68d5",
   "metadata": {},
   "outputs": [],
   "source": [
    "def datasetToArr(dataset):\n",
    "    x_new = np.array([])\n",
    "    y_new = np.array([])\n",
    "    for data in dataset:\n",
    "        if x_new.size == 0:\n",
    "            x_new = np.array(data[0].unsqueeze(0))\n",
    "        else:\n",
    "            x_new = np.concatenate((x_new, np.array(data[0].unsqueeze(0))), axis=0)\n",
    "        y_new = np.append(y_new, data[1])\n",
    "\n",
    "    return x_new, y_new"
   ]
  },
  {
   "cell_type": "code",
   "execution_count": 28,
   "id": "21f1e93d",
   "metadata": {},
   "outputs": [],
   "source": [
    "x_test_new, y_test_new = datasetToArr(test_dataset)\n",
    "x_train_new, y_train_new = datasetToArr(train_dataset)\n",
    "x_all, y_all = datasetToArr(dataset)"
   ]
  },
  {
   "cell_type": "markdown",
   "id": "84999ae1",
   "metadata": {},
   "source": [
    "# Model"
   ]
  },
  {
   "cell_type": "code",
   "execution_count": 7,
   "id": "411fceec",
   "metadata": {},
   "outputs": [],
   "source": [
    "def get_output_size(network):\n",
    "    if type(network) != list:\n",
    "        network = [network]\n",
    "        \n",
    "    output = Variable(torch.ones(1, 1, 150, 150))\n",
    "    for conv in network:\n",
    "        output = conv.forward(output)\n",
    "    \n",
    "    # return np.asscalar(np.prod(output.data.shape)), output.data.size()[2]\n",
    "    return np.prod(output.data.shape)\n",
    "\n",
    "\n",
    "class ConvLayer(nn.Module):\n",
    "    def __init__(self, in_c, out_c, kernel_size=5, max_pool_stride=2):\n",
    "        super(ConvLayer, self).__init__()\n",
    "        self.conv1 = nn.Conv2d(in_c, out_c, kernel_size=kernel_size)\n",
    "        self.conv2 = nn.Conv2d(out_c, out_c, kernel_size=kernel_size)\n",
    "        self.max_pool2d = nn.MaxPool2d(kernel_size=2, stride=max_pool_stride)\n",
    "        self.relu = nn.ReLU()\n",
    "\n",
    "    def forward(self, x):\n",
    "        x = self.relu(self.conv2(self.relu(self.conv1(x))))\n",
    "        return self.max_pool2d(x)\n",
    "\n",
    "\n",
    "class Network(nn.Module):\n",
    "    def __init__(self):\n",
    "        super(Network, self).__init__()\n",
    "        self.convs = []\n",
    "        self.convs.append(ConvLayer(1, 32, kernel_size=5))\n",
    "        self.convs.append(ConvLayer(32, 64, kernel_size=5))\n",
    "        conv_output_size = get_output_size(self.convs)\n",
    "        self.fully_connected1 = nn.Linear(conv_output_size, 1024)\n",
    "        self.fully_connected2 = nn.Linear(1024, 15)\n",
    "\n",
    "    def forward(self, x):\n",
    "        for conv in self.convs:\n",
    "            x = conv(x)\n",
    "        x = x.view(x.size(0), -1)\n",
    "        x = nn.functional.relu(self.fully_connected1(x))\n",
    "        return nn.functional.log_softmax(self.fully_connected2(x))"
   ]
  },
  {
   "cell_type": "markdown",
   "id": "06552c73",
   "metadata": {},
   "source": [
    "# Declare Original Model and Classifier"
   ]
  },
  {
   "cell_type": "code",
   "execution_count": 125,
   "id": "ba011072",
   "metadata": {},
   "outputs": [],
   "source": [
    "model = torch.load('./model.pt')\n",
    "\n",
    "classifier = PyTorchClassifier(model=model,\n",
    "                                    nb_classes=15,\n",
    "                                    clip_values=(0.0, 1.0),\n",
    "                                    input_shape=tuple(train_dataset[0][0].shape[1:]),\n",
    "                                    loss=torch.nn.CrossEntropyLoss())"
   ]
  },
  {
   "cell_type": "markdown",
   "id": "8339c563",
   "metadata": {},
   "source": [
    "# Define Function of Predict Accuracy"
   ]
  },
  {
   "cell_type": "code",
   "execution_count": 32,
   "id": "1d1097b6",
   "metadata": {},
   "outputs": [],
   "source": [
    "def accuracyOnPredict(predictions):\n",
    "    correct = 0\n",
    "    index = 0\n",
    "    for predict in predictions:\n",
    "        pred = np.argmax(predict)\n",
    "        if pred == y_test_new[index]:\n",
    "            correct += 1\n",
    "\n",
    "        index += 1\n",
    "\n",
    "    return correct/len(y_test_new)"
   ]
  },
  {
   "cell_type": "markdown",
   "id": "8f599001",
   "metadata": {},
   "source": [
    "# Impact of eps & norm - FGM"
   ]
  },
  {
   "cell_type": "code",
   "execution_count": null,
   "id": "f20cb126",
   "metadata": {},
   "outputs": [],
   "source": [
    "FGM_eps_list = [0.1, 0.15, 0.17, 0.2, 0.23, 0.26, 0.3]\n",
    "norm_list = [\"inf\", 1, 2]\n",
    "FGM_datasets = []\n",
    "\n",
    "for norm_elem in norm_list:\n",
    "    print(\"\\n--------------\"+str(norm_elem)+\"--------------\")\n",
    "    for eps_elem in eps_list:\n",
    "        PGD_PyTorch = ProjectedGradientDescentPyTorch(classifier, norm = 'inf',\n",
    "                        eps=eps_elem, eps_step=0.01, targeted=False,\n",
    "                        max_iter=10,\n",
    "                        num_random_init=5,\n",
    "                        batch_size=16,\n",
    "                        )\n",
    "\n",
    "    start = timeit.default_timer()\n",
    "    FGM_test_adv = FGM_PyTorch.generate(x_test_new)\n",
    "    stop = timeit.default_timer()\n",
    "    \n",
    "    print('Time: ', stop - start)\n",
    "\n",
    "    FGM_datasets.append(FGM_test_adv)\n",
    "\n",
    "    FGM_predictions = classifier.predict(FGM_test_adv)\n",
    "\n",
    "    print(\"FGM_\"+ str(eps_elem) +\" Accuracy : \" + str(accuracyOnPredict(FGM_predictions)))"
   ]
  },
  {
   "cell_type": "markdown",
   "id": "a5a2eea4",
   "metadata": {},
   "source": [
    "# Impact of eps & max_iter - BIM"
   ]
  },
  {
   "cell_type": "code",
   "execution_count": null,
   "id": "d1df867d",
   "metadata": {},
   "outputs": [],
   "source": [
    "BIM_eps_list = [0.1, 0.15, 0.17, 0.2, 0.23, 0.26, 0.3]\n",
    "max_iter_list = [10, 20, 30]\n",
    "BIM_datasets = []\n",
    "\n",
    "for iter_elem in max_iter_list:\n",
    "    print(\"\\n--------------\"+str(iter_elem)+\"--------------\")\n",
    "    for eps_elem in eps_list:\n",
    "        BIM = BasicIterativeMethod(classifier,\n",
    "                        eps=eps_elem, eps_step=0.01, targeted=False,\n",
    "                        max_iter=iter_elem,\n",
    "                        batch_size=16,\n",
    "                        verbose=False\n",
    "                        )\n",
    "\n",
    "    start = timeit.default_timer()\n",
    "    BIM_test_adv = BIM.generate(x_test_new)\n",
    "    stop = timeit.default_timer()\n",
    "    \n",
    "    print('Time: ', stop - start)\n",
    "\n",
    "    BIM_datasets.append(BIM_test_adv)\n",
    "\n",
    "    BIM_predictions = classifier.predict(BIM_test_adv)\n",
    "\n",
    "    print(\"BIM_\"+ str(eps_elem) +\" Accuracy : \" + str(accuracyOnPredict(BIM_predictions)))"
   ]
  },
  {
   "cell_type": "markdown",
   "id": "a8ce4f14",
   "metadata": {},
   "source": [
    "# Impact of eps - PGD"
   ]
  },
  {
   "cell_type": "code",
   "execution_count": 113,
   "id": "ba6b26dc",
   "metadata": {},
   "outputs": [
    {
     "name": "stderr",
     "output_type": "stream",
     "text": [
      "/var/folders/kz/g62w87bj73178r3nz8w3g23w0000gn/T/ipykernel_11494/1691980779.py:41: UserWarning: Implicit dimension choice for log_softmax has been deprecated. Change the call to include dim=X as an argument.\n",
      "  return nn.functional.log_softmax(self.fully_connected2(x))\n"
     ]
    },
    {
     "data": {
      "application/vnd.jupyter.widget-view+json": {
       "model_id": "",
       "version_major": 2,
       "version_minor": 0
      },
      "text/plain": [
       "PGD - Batches:   0%|          | 0/2 [00:00<?, ?it/s]"
      ]
     },
     "metadata": {},
     "output_type": "display_data"
    },
    {
     "name": "stdout",
     "output_type": "stream",
     "text": [
      "PGD_0.2 Accuracy : 0.2647058823529412\n"
     ]
    },
    {
     "data": {
      "application/vnd.jupyter.widget-view+json": {
       "model_id": "",
       "version_major": 2,
       "version_minor": 0
      },
      "text/plain": [
       "PGD - Batches:   0%|          | 0/2 [00:00<?, ?it/s]"
      ]
     },
     "metadata": {},
     "output_type": "display_data"
    },
    {
     "name": "stdout",
     "output_type": "stream",
     "text": [
      "PGD_0.23 Accuracy : 0.20588235294117646\n"
     ]
    },
    {
     "data": {
      "application/vnd.jupyter.widget-view+json": {
       "model_id": "",
       "version_major": 2,
       "version_minor": 0
      },
      "text/plain": [
       "PGD - Batches:   0%|          | 0/2 [00:00<?, ?it/s]"
      ]
     },
     "metadata": {},
     "output_type": "display_data"
    },
    {
     "name": "stdout",
     "output_type": "stream",
     "text": [
      "PGD_0.26 Accuracy : 0.14705882352941177\n"
     ]
    },
    {
     "data": {
      "application/vnd.jupyter.widget-view+json": {
       "model_id": "",
       "version_major": 2,
       "version_minor": 0
      },
      "text/plain": [
       "PGD - Batches:   0%|          | 0/2 [00:00<?, ?it/s]"
      ]
     },
     "metadata": {},
     "output_type": "display_data"
    },
    {
     "name": "stdout",
     "output_type": "stream",
     "text": [
      "PGD_0.3 Accuracy : 0.11764705882352941\n"
     ]
    }
   ],
   "source": [
    "PGD_eps_list = [0.1, 0.15, 0.17, 0.2, 0.23, 0.26, 0.3]\n",
    "PGD_datasets = []\n",
    "\n",
    "for eps_elem in eps_list:\n",
    "    PGD_PyTorch = ProjectedGradientDescentPyTorch(classifier, norm = 'inf',\n",
    "                    eps=eps_elem, eps_step=0.01, targeted=False,\n",
    "                    max_iter=10,\n",
    "                    num_random_init=5,\n",
    "                    batch_size=16,\n",
    "                    )\n",
    "\n",
    "    start = timeit.default_timer()\n",
    "    PGD_test_adv = PGD_PyTorch.generate(x_test_new)\n",
    "    stop = timeit.default_timer()\n",
    "    \n",
    "    print('Time: ', stop - start)\n",
    "\n",
    "    PGD_datasets.append(PGD_test_adv)\n",
    "\n",
    "    PGD_predictions = classifier.predict(PGD_test_adv)\n",
    "\n",
    "    print(\"PGD_\"+ str(eps_elem) +\" Accuracy : \" + str(accuracyOnPredict(PGD_predictions)))"
   ]
  },
  {
   "cell_type": "markdown",
   "id": "8d8f8882",
   "metadata": {},
   "source": [
    "# Show Adversarial Image"
   ]
  },
  {
   "cell_type": "code",
   "execution_count": 137,
   "id": "ae627246",
   "metadata": {
    "scrolled": false
   },
   "outputs": [],
   "source": [
    "def show_adversarial_image(eps_list, datasets):\n",
    "    fig = plt.figure(figsize=(10,10))\n",
    "    index = 1\n",
    "    for eps_index in range(0,len(eps_list)):\n",
    "        image = Image.fromarray((datasets[eps_index][0]*255).astype(np.uint8).squeeze())\n",
    "        image = image.convert('L')\n",
    "        ax1 = fig.add_subplot(len(eps_list), 1, index)\n",
    "        ax1.imshow(np.array(image), cmap='gray')\n",
    "        ax1.set_xlabel(str(eps_list[index-1]))\n",
    "        ax1.set_xticks([]), ax1.set_yticks([])\n",
    "        index = index+1\n",
    "\n",
    "    plt.show()"
   ]
  },
  {
   "cell_type": "code",
   "execution_count": null,
   "id": "253ea700",
   "metadata": {},
   "outputs": [],
   "source": [
    "show_adversarial_image(FGM_eps_list, FGM_datasets)"
   ]
  },
  {
   "cell_type": "code",
   "execution_count": null,
   "id": "6a99c331",
   "metadata": {},
   "outputs": [],
   "source": [
    "show_adversarial_image(BIM_eps_list, BIM_datasets)"
   ]
  },
  {
   "cell_type": "code",
   "execution_count": null,
   "id": "33931a0b",
   "metadata": {},
   "outputs": [],
   "source": [
    "show_adversarial_image(PGD_eps_list, PGD_datasets)"
   ]
  },
  {
   "cell_type": "markdown",
   "id": "308ab6cb",
   "metadata": {},
   "source": [
    "# Check Empirical Robustness of FGSM"
   ]
  },
  {
   "cell_type": "code",
   "execution_count": 127,
   "id": "9b7afb2a",
   "metadata": {},
   "outputs": [
    {
     "name": "stderr",
     "output_type": "stream",
     "text": [
      "/var/folders/kz/g62w87bj73178r3nz8w3g23w0000gn/T/ipykernel_11494/1691980779.py:41: UserWarning: Implicit dimension choice for log_softmax has been deprecated. Change the call to include dim=X as an argument.\n",
      "  return nn.functional.log_softmax(self.fully_connected2(x))\n"
     ]
    },
    {
     "data": {
      "text/plain": [
       "0.18697523"
      ]
     },
     "execution_count": 127,
     "metadata": {},
     "output_type": "execute_result"
    }
   ],
   "source": [
    "empirical_robustness(classifier,\n",
    "                      x=x_test_new,\n",
    "                      attack_name='fgsm',\n",
    "                     attack_params={'norm':np.inf}\n",
    "                     )"
   ]
  },
  {
   "cell_type": "markdown",
   "id": "1537fd71",
   "metadata": {},
   "source": [
    "# Create Each Adversarial Image with Optimum parameters"
   ]
  },
  {
   "cell_type": "markdown",
   "id": "c7861e66",
   "metadata": {},
   "source": [
    "## FGM"
   ]
  },
  {
   "cell_type": "code",
   "execution_count": 128,
   "id": "0a798144",
   "metadata": {},
   "outputs": [
    {
     "name": "stderr",
     "output_type": "stream",
     "text": [
      "/var/folders/kz/g62w87bj73178r3nz8w3g23w0000gn/T/ipykernel_11494/1691980779.py:41: UserWarning: Implicit dimension choice for log_softmax has been deprecated. Change the call to include dim=X as an argument.\n",
      "  return nn.functional.log_softmax(self.fully_connected2(x))\n"
     ]
    },
    {
     "name": "stdout",
     "output_type": "stream",
     "text": [
      "Time:  35.704074324999965\n"
     ]
    }
   ],
   "source": [
    "FGM = FastGradientMethod(classifier, norm = \"inf\", \n",
    "                        eps=0.2, eps_step=0.01, targeted=False,\n",
    "                        num_random_init=0,\n",
    "                        batch_size=16,\n",
    "                        minimal=True)\n",
    "\n",
    "start = timeit.default_timer()\n",
    "FGM_test_adv = FGM.generate(x_test_new)\n",
    "stop = timeit.default_timer()\n",
    "\n",
    "print('Time: ', stop - start)"
   ]
  },
  {
   "cell_type": "markdown",
   "id": "900f01c4",
   "metadata": {},
   "source": [
    "## BIM"
   ]
  },
  {
   "cell_type": "code",
   "execution_count": 129,
   "id": "8144e5db",
   "metadata": {},
   "outputs": [
    {
     "name": "stderr",
     "output_type": "stream",
     "text": [
      "/var/folders/kz/g62w87bj73178r3nz8w3g23w0000gn/T/ipykernel_11494/1691980779.py:41: UserWarning: Implicit dimension choice for log_softmax has been deprecated. Change the call to include dim=X as an argument.\n",
      "  return nn.functional.log_softmax(self.fully_connected2(x))\n"
     ]
    },
    {
     "name": "stdout",
     "output_type": "stream",
     "text": [
      "Time:  62.26178963100028\n"
     ]
    }
   ],
   "source": [
    "BIM = BasicIterativeMethod(classifier,\n",
    "                        eps=0.2, eps_step=0.01, targeted=False,\n",
    "                        max_iter=10,\n",
    "                        batch_size=16,\n",
    "                        verbose=False\n",
    "                        )\n",
    "\n",
    "start = timeit.default_timer()\n",
    "BIM_test_adv = BIM.generate(x_test_new)\n",
    "stop = timeit.default_timer()\n",
    "\n",
    "print('Time: ', stop - start)"
   ]
  },
  {
   "cell_type": "markdown",
   "id": "be40527c",
   "metadata": {},
   "source": [
    "## PGD"
   ]
  },
  {
   "cell_type": "code",
   "execution_count": 130,
   "id": "5112ee69",
   "metadata": {},
   "outputs": [
    {
     "name": "stderr",
     "output_type": "stream",
     "text": [
      "/var/folders/kz/g62w87bj73178r3nz8w3g23w0000gn/T/ipykernel_11494/1691980779.py:41: UserWarning: Implicit dimension choice for log_softmax has been deprecated. Change the call to include dim=X as an argument.\n",
      "  return nn.functional.log_softmax(self.fully_connected2(x))\n"
     ]
    },
    {
     "data": {
      "application/vnd.jupyter.widget-view+json": {
       "model_id": "",
       "version_major": 2,
       "version_minor": 0
      },
      "text/plain": [
       "PGD - Batches:   0%|          | 0/3 [00:00<?, ?it/s]"
      ]
     },
     "metadata": {},
     "output_type": "display_data"
    },
    {
     "name": "stdout",
     "output_type": "stream",
     "text": [
      "Time:  313.9506145069972\n"
     ]
    }
   ],
   "source": [
    "PGD_PyTorch = ProjectedGradientDescentPyTorch(classifier, norm = \"inf\", \n",
    "                        eps=0.3, eps_step=0.01, targeted=False,\n",
    "                        max_iter=10,\n",
    "                        num_random_init=5,\n",
    "                        batch_size=16,\n",
    "                        )\n",
    "\n",
    "start = timeit.default_timer()\n",
    "PGD_test_adv = PGD_PyTorch.generate(x_test_new)\n",
    "stop = timeit.default_timer()\n",
    "\n",
    "print('Time: ', stop - start)"
   ]
  },
  {
   "cell_type": "markdown",
   "id": "44c6b84b",
   "metadata": {},
   "source": [
    "# Check Degree of Modification"
   ]
  },
  {
   "cell_type": "code",
   "execution_count": 131,
   "id": "0687443e",
   "metadata": {},
   "outputs": [
    {
     "name": "stdout",
     "output_type": "stream",
     "text": [
      "2.0342607479255026 0.8217294678227149 2.234753785459056\n"
     ]
    }
   ],
   "source": [
    "FGM_wd = wasserstein_distance(x_test_new, FGM_test_adv)\n",
    "BIM_wd = wasserstein_distance(x_test_new, BIM_test_adv)\n",
    "PGD_wd = wasserstein_distance(x_test_new, PGD_test_adv)\n",
    "\n",
    "print(np.sum(FGM_wd), np.sum(BIM_wd), np.sum(PGD_wd))"
   ]
  },
  {
   "cell_type": "code",
   "execution_count": 138,
   "id": "f2024b9c",
   "metadata": {},
   "outputs": [
    {
     "data": {
      "image/png": "[encoded data removed]",
      "text/plain": [
       "<Figure size 720x720 with 4 Axes>"
      ]
     },
     "metadata": {},
     "output_type": "display_data"
    }
   ],
   "source": [
    "show_adversarial_image(['original', 'FGM', 'BIM', 'PGD'], [x_test_new[0], FGM_test_adv[0], BIM_test_adv[0], PGD_test_adv[0]])"
   ]
  },
  {
   "cell_type": "markdown",
   "id": "c2fa0093",
   "metadata": {},
   "source": [
    "# Generate PGD Adversarial Train Dataset"
   ]
  },
  {
   "cell_type": "code",
   "execution_count": null,
   "id": "b6e387ec",
   "metadata": {},
   "outputs": [],
   "source": [
    "start = timeit.default_timer()\n",
    "PGD_train_adv = PGD_PyTorch.generate(x_train_new)\n",
    "stop = timeit.default_timer()"
   ]
  },
  {
   "cell_type": "markdown",
   "id": "244f6910",
   "metadata": {},
   "source": [
    "# Declare Attack Model and Parameters"
   ]
  },
  {
   "cell_type": "code",
   "execution_count": null,
   "id": "36036161",
   "metadata": {},
   "outputs": [],
   "source": [
    "batch_size = 16\n",
    "epochs = 50\n",
    "\n",
    "tensorX = torch.tensor(PGD_train_adv)\n",
    "tensorY = torch.tensor(y_train_new)\n",
    "tensorY = tensorY.long()\n",
    "dataset_train_PGD = TensorDataset(tensorX, tensorY)\n",
    "attack_train_loader = DataLoader(dataset_train_PGD,\n",
    "                         batch_size = batch_size, shuffle=False)\n",
    "\n",
    "attack_model = Network()\n",
    "optimizer=optim.Adam(attack_model.parameters(), lr=0.001)"
   ]
  },
  {
   "cell_type": "code",
   "execution_count": null,
   "id": "446bbf9f",
   "metadata": {},
   "outputs": [],
   "source": [
    "def train(model, optimizer, train_loader):\n",
    "    model.train()\n",
    "    train_result={'epoch':[], 'loss':[]}\n",
    "\n",
    "    for i in range(epochs):\n",
    "        loss_data=[]\n",
    "        for images, labels in train_loader:\n",
    "            running_time=0\n",
    "\n",
    "            images, labels = Variable(images), Variable(labels)\n",
    "\n",
    "            optimizer.zero_grad()\n",
    "\n",
    "            output = model(images)\n",
    "\n",
    "            loss = nll_loss(output, labels)\n",
    "            loss.backward()\n",
    "            optimizer.step()\n",
    "            loss_data.append(loss.data)\n",
    "\n",
    "        print('Train Epoch: {} \\tLoss: {:.6f}'.format(i, np.mean(loss_data)))"
   ]
  },
  {
   "cell_type": "markdown",
   "id": "62f76c94",
   "metadata": {},
   "source": [
    "# Train Model with PGD Adversarial Dataset"
   ]
  },
  {
   "cell_type": "code",
   "execution_count": null,
   "id": "b4f4514b",
   "metadata": {},
   "outputs": [],
   "source": [
    "train(attack_model, optimizer, attack_train_loader)"
   ]
  },
  {
   "cell_type": "code",
   "execution_count": null,
   "id": "3f1ff2ac",
   "metadata": {},
   "outputs": [],
   "source": [
    "torch.save(attack_model, './PGD_model.pt')"
   ]
  },
  {
   "cell_type": "markdown",
   "id": "bf10207a",
   "metadata": {},
   "source": [
    "# Check Accuracy of Original Model"
   ]
  },
  {
   "cell_type": "code",
   "execution_count": 139,
   "id": "a290977e",
   "metadata": {},
   "outputs": [
    {
     "name": "stderr",
     "output_type": "stream",
     "text": [
      "/var/folders/kz/g62w87bj73178r3nz8w3g23w0000gn/T/ipykernel_11494/1691980779.py:41: UserWarning: Implicit dimension choice for log_softmax has been deprecated. Change the call to include dim=X as an argument.\n",
      "  return nn.functional.log_softmax(self.fully_connected2(x))\n"
     ]
    },
    {
     "name": "stdout",
     "output_type": "stream",
     "text": [
      "ORIGINAL Accuracy in Original Model : 0.9411764705882353\n",
      "FGM Accuracy in Original Model : 0.38235294117647056\n",
      "BIM Accuracy in Original Model : 0.6176470588235294\n",
      "PGD Accuracy in Original Model : 0.08823529411764706\n"
     ]
    }
   ],
   "source": [
    "ORIGIN_predictions = classifier.predict(x_test_new)\n",
    "FGM_predictions = classifier.predict(FGM_test_adv)\n",
    "BIM_predictions = classifier.predict(BIM_test_adv)\n",
    "PGD_predictions = classifier.predict(PGD_test_adv)\n",
    "\n",
    "print(\"ORIGINAL Accuracy in Original Model : \" + str(accuracyOnPredict(ORIGIN_predictions)))\n",
    "print(\"FGM Accuracy in Original Model : \" + str(accuracyOnPredict(FGM_predictions)))\n",
    "print(\"BIM Accuracy in Original Model : \" + str(accuracyOnPredict(BIM_predictions)))\n",
    "print(\"PGD Accuracy in Original Model : \" + str(accuracyOnPredict(PGD_predictions)))"
   ]
  },
  {
   "cell_type": "markdown",
   "id": "40b292b4",
   "metadata": {},
   "source": [
    "# Check Accuracy of PGD Model"
   ]
  },
  {
   "cell_type": "code",
   "execution_count": 140,
   "id": "5fe14176",
   "metadata": {},
   "outputs": [],
   "source": [
    "PGD_model = torch.load('./PGD_model.pt')\n",
    "\n",
    "classifier_PGD = PyTorchClassifier(model=PGD_model,\n",
    "                                    nb_classes=15,\n",
    "                                    clip_values=(0.0, 1.0),\n",
    "                                    input_shape=tuple(train_dataset[0][0].shape[1:]),\n",
    "                                    loss=torch.nn.CrossEntropyLoss())"
   ]
  },
  {
   "cell_type": "code",
   "execution_count": 146,
   "id": "78cca747",
   "metadata": {},
   "outputs": [
    {
     "name": "stderr",
     "output_type": "stream",
     "text": [
      "/var/folders/kz/g62w87bj73178r3nz8w3g23w0000gn/T/ipykernel_11494/1691980779.py:41: UserWarning: Implicit dimension choice for log_softmax has been deprecated. Change the call to include dim=X as an argument.\n",
      "  return nn.functional.log_softmax(self.fully_connected2(x))\n"
     ]
    },
    {
     "name": "stdout",
     "output_type": "stream",
     "text": [
      "ORIGIN Accuracy in PGD Attack Model: 0.8529411764705882\n",
      "FGM Accuracy in PGD Attack Model: 0.9411764705882353\n",
      "BIM Accuracy in PGD Attack Model: 0.9411764705882353\n",
      "PGD Accuracy in PGD Attack Model: 0.9705882352941176\n"
     ]
    }
   ],
   "source": [
    "ORIGIN_predictions_PGD = classifier_PGD.predict(x_test_new)\n",
    "FGM_predictions_PGD = classifier_PGD.predict(FGM_test_adv)\n",
    "BIM_predictions_PGD = classifier_PGD.predict(BIM_test_adv)\n",
    "PGD_predictions_PGD = classifier_PGD.predict(PGD_test_adv)\n",
    "\n",
    "print(\"ORIGIN Accuracy in PGD Attack Model: \" + str(accuracyOnPredict(ORIGIN_predictions_PGD)))\n",
    "print(\"FGM Accuracy in PGD Attack Model: \" + str(accuracyOnPredict(FGM_predictions_PGD)))\n",
    "print(\"BIM Accuracy in PGD Attack Model: \" + str(accuracyOnPredict(BIM_predictions_PGD)))\n",
    "print(\"PGD Accuracy in PGD Attack Model: \" + str(accuracyOnPredict(PGD_predictions_PGD)))"
   ]
  },
  {
   "cell_type": "markdown",
   "id": "c7f48d08",
   "metadata": {},
   "source": [
    "# Check Accuracy of FGM Model"
   ]
  },
  {
   "cell_type": "code",
   "execution_count": 144,
   "id": "6e12e014",
   "metadata": {},
   "outputs": [],
   "source": [
    "FGM_model = torch.load('./FGM_model.pt')\n",
    "\n",
    "classifier_FGM = PyTorchClassifier(model=FGM_model,\n",
    "                                    nb_classes=15,\n",
    "                                    clip_values=(0.0, 1.0),\n",
    "                                    input_shape=tuple(train_dataset[0][0].shape[1:]),\n",
    "                                    loss=torch.nn.CrossEntropyLoss())"
   ]
  },
  {
   "cell_type": "code",
   "execution_count": 145,
   "id": "0e73bf4b",
   "metadata": {},
   "outputs": [
    {
     "name": "stderr",
     "output_type": "stream",
     "text": [
      "/var/folders/kz/g62w87bj73178r3nz8w3g23w0000gn/T/ipykernel_11494/1691980779.py:41: UserWarning: Implicit dimension choice for log_softmax has been deprecated. Change the call to include dim=X as an argument.\n",
      "  return nn.functional.log_softmax(self.fully_connected2(x))\n"
     ]
    },
    {
     "name": "stdout",
     "output_type": "stream",
     "text": [
      "ORIGIN Accuracy in FGM Attack Model: 0.9411764705882353\n",
      "FGM Accuracy in FGM Attack Model: 0.9411764705882353\n",
      "BIM Accuracy in FGM Attack Model: 0.9411764705882353\n",
      "PGD Accuracy in FGM Attack Model: 0.8529411764705882\n"
     ]
    }
   ],
   "source": [
    "ORIGIN_predictions_FGM = classifier_FGM.predict(x_test_new)\n",
    "FGM_predictions_FGM = classifier_FGM.predict(FGM_test_adv)\n",
    "BIM_predictions_FGM = classifier_FGM.predict(BIM_test_adv)\n",
    "PGD_predictions_FGM = classifier_FGM.predict(PGD_test_adv)\n",
    "\n",
    "print(\"ORIGIN Accuracy in FGM Attack Model: \" + str(accuracyOnPredict(ORIGIN_predictions_FGM)))\n",
    "print(\"FGM Accuracy in FGM Attack Model: \" + str(accuracyOnPredict(FGM_predictions_FGM)))\n",
    "print(\"BIM Accuracy in FGM Attack Model: \" + str(accuracyOnPredict(BIM_predictions_FGM)))\n",
    "print(\"PGD Accuracy in FGM Attack Model: \" + str(accuracyOnPredict(PGD_predictions_FGM)))"
   ]
  }
 ],
 "metadata": {
  "kernelspec": {
   "display_name": "Python 3 (ipykernel)",
   "language": "python",
   "name": "python3"
  },
  "language_info": {
   "codemirror_mode": {
    "name": "ipython",
    "version": 3
   },
   "file_extension": ".py",
   "mimetype": "text/x-python",
   "name": "python",
   "nbconvert_exporter": "python",
   "pygments_lexer": "ipython3",
   "version": "3.8.8"
  }
 },
 "nbformat": 4,
 "nbformat_minor": 5
}
