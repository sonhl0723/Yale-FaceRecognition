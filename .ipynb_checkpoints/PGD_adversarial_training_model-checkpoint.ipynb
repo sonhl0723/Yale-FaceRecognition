{
 "cells": [
  {
   "cell_type": "markdown",
   "id": "4e4ae20c",
   "metadata": {},
   "source": [
    "# Import Library"
   ]
  },
  {
   "cell_type": "code",
   "execution_count": 146,
   "id": "51f14075",
   "metadata": {},
   "outputs": [],
   "source": [
    "from art.attacks.evasion import FastGradientMethod, BasicIterativeMethod, ProjectedGradientDescent\n",
    "from art.metrics import empirical_robustness\n",
    "import timeit\n",
    "from art.estimators.classification import PyTorchClassifier\n",
    "import numpy as np\n",
    "from torch.utils.data import DataLoader, random_split, TensorDataset\n",
    "from torch.nn.functional import nll_loss\n",
    "from torchvision import transforms, datasets\n",
    "from torch import optim\n",
    "import os\n",
    "import torch\n",
    "from PIL import Image\n",
    "import matplotlib.pyplot as plt\n",
    "from torch import nn\n",
    "from torch.autograd import Variable\n",
    "\n",
    "import src.model as md\n",
    "from src.model import Network\n",
    "from src.model import ConvLayer\n",
    "\n",
    "%matplotlib inline"
   ]
  },
  {
   "cell_type": "markdown",
   "id": "4e3f907a",
   "metadata": {},
   "source": [
    "# Load Dataset & Split train and test"
   ]
  },
  {
   "cell_type": "code",
   "execution_count": 9,
   "id": "9e9e3fa2",
   "metadata": {},
   "outputs": [],
   "source": [
    "transf = transforms.Compose([transforms.Resize((150,150)),\n",
    "                            transforms.ToTensor(),\n",
    "                            transforms.Grayscale(num_output_channels=1)\n",
    "                            ])\n",
    "dataset = datasets.ImageFolder(root = './src/preprocessing/', transform = transf)\n",
    "\n",
    "train_dataset, test_dataset  = random_split(dataset, [130,34])"
   ]
  },
  {
   "cell_type": "markdown",
   "id": "4661b618",
   "metadata": {},
   "source": [
    "# Converting data types to array"
   ]
  },
  {
   "cell_type": "code",
   "execution_count": 131,
   "id": "d82d68d5",
   "metadata": {},
   "outputs": [],
   "source": [
    "def datasetToArr(dataset):\n",
    "    x_new = np.array([])\n",
    "    y_new = np.array([])\n",
    "    for data in dataset:\n",
    "        if x_new.size == 0:\n",
    "            x_new = np.array(data[0].unsqueeze(0))\n",
    "        else:\n",
    "            x_new = np.concatenate((x_new, np.array(data[0].unsqueeze(0))), axis=0)\n",
    "        y_new = np.append(y_new, data[1])\n",
    "\n",
    "    return x_new, y_new\n",
    "\n",
    "x_test_new, y_test_new = datasetToArr(test_dataset)\n",
    "x_train_new, y_train_new = datasetToArr(train_dataset)"
   ]
  },
  {
   "cell_type": "markdown",
   "id": "5f33ba95",
   "metadata": {},
   "source": [
    "# Load the original Model & Define a classifier"
   ]
  },
  {
   "cell_type": "code",
   "execution_count": 16,
   "id": "ba011072",
   "metadata": {},
   "outputs": [],
   "source": [
    "model = torch.load('./model/model.pt')\n",
    "\n",
    "classifier = PyTorchClassifier(model=model,\n",
    "                                    nb_classes=15,\n",
    "                                    clip_values=(0.0, 1.0),\n",
    "                                    input_shape=tuple(train_dataset[0][0].shape[1:]),\n",
    "                                    loss=torch.nn.CrossEntropyLoss())"
   ]
  },
  {
   "cell_type": "markdown",
   "id": "e31caba5",
   "metadata": {},
   "source": [
    "# Create Evasion Attack Example"
   ]
  },
  {
   "cell_type": "markdown",
   "id": "01abe219",
   "metadata": {},
   "source": [
    "## FGM"
   ]
  },
  {
   "cell_type": "code",
   "execution_count": 62,
   "id": "571039b2",
   "metadata": {},
   "outputs": [
    {
     "name": "stderr",
     "output_type": "stream",
     "text": [
      "/var/folders/kz/g62w87bj73178r3nz8w3g23w0000gn/T/ipykernel_72293/1691980779.py:41: UserWarning: Implicit dimension choice for log_softmax has been deprecated. Change the call to include dim=X as an argument.\n",
      "  return nn.functional.log_softmax(self.fully_connected2(x))\n"
     ]
    },
    {
     "name": "stdout",
     "output_type": "stream",
     "text": [
      "Time:  12.325313080000342\n"
     ]
    }
   ],
   "source": [
    "FGM = FastGradientMethod(classifier, norm = \"inf\", \n",
    "                        eps=0.2, eps_step=0.1, targeted=False,\n",
    "                        num_random_init=5,\n",
    "                        batch_size=16,\n",
    "                        minimal=True)\n",
    "\n",
    "start = timeit.default_timer()\n",
    "FGM_test_adv = FGM.generate(x_test_new)\n",
    "stop = timeit.default_timer()\n",
    "\n",
    "print('Time: ', stop - start)"
   ]
  },
  {
   "cell_type": "markdown",
   "id": "af8a1d61",
   "metadata": {},
   "source": [
    "## BIM"
   ]
  },
  {
   "cell_type": "code",
   "execution_count": 101,
   "id": "c69340c7",
   "metadata": {},
   "outputs": [
    {
     "name": "stderr",
     "output_type": "stream",
     "text": [
      "/var/folders/kz/g62w87bj73178r3nz8w3g23w0000gn/T/ipykernel_72293/1691980779.py:41: UserWarning: Implicit dimension choice for log_softmax has been deprecated. Change the call to include dim=X as an argument.\n",
      "  return nn.functional.log_softmax(self.fully_connected2(x))\n"
     ]
    },
    {
     "data": {
      "application/vnd.jupyter.widget-view+json": {
       "model_id": "",
       "version_major": 2,
       "version_minor": 0
      },
      "text/plain": [
       "PGD - Batches:   0%|          | 0/3 [00:00<?, ?it/s]"
      ]
     },
     "metadata": {},
     "output_type": "display_data"
    },
    {
     "name": "stdout",
     "output_type": "stream",
     "text": [
      "Time:  105.93009724500007\n"
     ]
    }
   ],
   "source": [
    "BIM = BasicIterativeMethod(classifier,\n",
    "                        eps=0.15, eps_step=0.1, targeted=False,\n",
    "                        max_iter=20,\n",
    "                        batch_size=16,\n",
    "                        verbose=True\n",
    "                        )\n",
    "\n",
    "start = timeit.default_timer()\n",
    "BIM_test_adv = BIM.generate(x_test_new)\n",
    "stop = timeit.default_timer()\n",
    "\n",
    "print('Time: ', stop - start)"
   ]
  },
  {
   "cell_type": "markdown",
   "id": "fffecda5",
   "metadata": {},
   "source": [
    "## PGD"
   ]
  },
  {
   "cell_type": "code",
   "execution_count": 107,
   "id": "00ff1642",
   "metadata": {},
   "outputs": [
    {
     "name": "stderr",
     "output_type": "stream",
     "text": [
      "/var/folders/kz/g62w87bj73178r3nz8w3g23w0000gn/T/ipykernel_72293/1691980779.py:41: UserWarning: Implicit dimension choice for log_softmax has been deprecated. Change the call to include dim=X as an argument.\n",
      "  return nn.functional.log_softmax(self.fully_connected2(x))\n"
     ]
    },
    {
     "data": {
      "application/vnd.jupyter.widget-view+json": {
       "model_id": "",
       "version_major": 2,
       "version_minor": 0
      },
      "text/plain": [
       "PGD - Batches:   0%|          | 0/3 [00:00<?, ?it/s]"
      ]
     },
     "metadata": {},
     "output_type": "display_data"
    },
    {
     "name": "stdout",
     "output_type": "stream",
     "text": [
      "Time:  539.9409712479992\n"
     ]
    }
   ],
   "source": [
    "PGD = ProjectedGradientDescent(classifier, norm = \"inf\", \n",
    "                        eps=0.15, eps_step=0.1, targeted=False,\n",
    "#                         random_eps=True,\n",
    "                        max_iter=20,\n",
    "                        num_random_init=5,\n",
    "                        batch_size=16,\n",
    "                        )\n",
    "\n",
    "start = timeit.default_timer()\n",
    "PGD_test_adv = PGD.generate(x_test_new)\n",
    "stop = timeit.default_timer()\n",
    "\n",
    "print('Time: ', stop - start)"
   ]
  },
  {
   "cell_type": "markdown",
   "id": "6bb3fb4f",
   "metadata": {},
   "source": [
    "# Visualized Images"
   ]
  },
  {
   "cell_type": "code",
   "execution_count": 108,
   "id": "fe0f1722",
   "metadata": {},
   "outputs": [
    {
     "data": {
      "image/png": "[encoded data removed]",
      "text/plain": [
       "<PIL.Image.Image image mode=L size=150x150 at 0x7FD30FA700D0>"
      ]
     },
     "execution_count": 108,
     "metadata": {},
     "output_type": "execute_result"
    }
   ],
   "source": [
    "original_image = Image.fromarray((x_test_new[10]*255).astype(np.uint8).squeeze())\n",
    "FGM_image = Image.fromarray((FGM_test_adv[10]*255).astype(np.uint8).squeeze())\n",
    "BIM_image = Image.fromarray((BIM_test_adv[10]*255).astype(np.uint8).squeeze())\n",
    "PGD_image = Image.fromarray((PGD_test_adv[10]*255).astype(np.uint8).squeeze())\n",
    "\n",
    "original_image"
   ]
  },
  {
   "cell_type": "code",
   "execution_count": 109,
   "id": "f773913f",
   "metadata": {},
   "outputs": [
    {
     "data": {
      "image/png": "[encoded data removed]",
      "text/plain": [
       "<PIL.Image.Image image mode=L size=150x150 at 0x7FD30DF7FDC0>"
      ]
     },
     "execution_count": 109,
     "metadata": {},
     "output_type": "execute_result"
    }
   ],
   "source": [
    "FGM_image"
   ]
  },
  {
   "cell_type": "code",
   "execution_count": 110,
   "id": "d14b8349",
   "metadata": {},
   "outputs": [
    {
     "data": {
      "image/png": "[encoded data removed]",
      "text/plain": [
       "<PIL.Image.Image image mode=L size=150x150 at 0x7FD30EE4E0D0>"
      ]
     },
     "execution_count": 110,
     "metadata": {},
     "output_type": "execute_result"
    }
   ],
   "source": [
    "BIM_image"
   ]
  },
  {
   "cell_type": "code",
   "execution_count": 111,
   "id": "676c1fc4",
   "metadata": {},
   "outputs": [
    {
     "data": {
      "image/png": "[encoded data removed]",
      "text/plain": [
       "<PIL.Image.Image image mode=L size=150x150 at 0x7FD30DF7FEE0>"
      ]
     },
     "execution_count": 111,
     "metadata": {},
     "output_type": "execute_result"
    }
   ],
   "source": [
    "PGD_image"
   ]
  },
  {
   "cell_type": "markdown",
   "id": "42b5df28",
   "metadata": {},
   "source": [
    "# Measure the accuracy of the original model for each example"
   ]
  },
  {
   "cell_type": "code",
   "execution_count": 157,
   "id": "249d1b2c",
   "metadata": {},
   "outputs": [
    {
     "name": "stdout",
     "output_type": "stream",
     "text": [
      "ORIGINAL Accuracy : 0.8823529411764706\n",
      "FGM Accuracy : 0.5\n",
      "BIM Accuracy : 0.058823529411764705\n",
      "PGD Accuracy : 0.029411764705882353\n"
     ]
    }
   ],
   "source": [
    "def accuracyOnPredict(predictions):\n",
    "    correct = 0\n",
    "    index = 0\n",
    "    for predict in predictions:\n",
    "        pred = np.argmax(predict)\n",
    "        if pred == y_test_new[index]:\n",
    "            correct += 1\n",
    "\n",
    "        index += 1\n",
    "\n",
    "    return correct/len(y_test_new)\n",
    "\n",
    "ORIGIN_predictions = classifier.predict(x_test_new)\n",
    "FGM_predictions = classifier.predict(FGM_test_adv)\n",
    "BIM_predictions = classifier.predict(BIM_test_adv)\n",
    "PGD_predictions = classifier.predict(PGD_test_adv)\n",
    "\n",
    "print(\"ORIGINAL Accuracy : \" + str(accuracyOnPredict(ORIGIN_predictions)))\n",
    "print(\"FGM Accuracy : \" + str(accuracyOnPredict(FGM_predictions)))\n",
    "print(\"BIM Accuracy : \" + str(accuracyOnPredict(BIM_predictions)))\n",
    "print(\"PGD Accuracy : \" + str(accuracyOnPredict(PGD_predictions)))"
   ]
  },
  {
   "cell_type": "markdown",
   "id": "d950d5d2",
   "metadata": {},
   "source": [
    "# Create PGD Adversarial Example"
   ]
  },
  {
   "cell_type": "code",
   "execution_count": 141,
   "id": "562cc10a",
   "metadata": {},
   "outputs": [
    {
     "data": {
      "image/png": "[encoded data removed]",
      "text/plain": [
       "<PIL.Image.Image image mode=L size=150x150 at 0x7FD30EE4E130>"
      ]
     },
     "execution_count": 141,
     "metadata": {},
     "output_type": "execute_result"
    }
   ],
   "source": [
    "start = timeit.default_timer()\n",
    "PGD_train_adv = PGD.generate(x_train_new)\n",
    "stop = timeit.default_timer()\n",
    "\n",
    "Image.fromarray((PGD_train_adv[5]*255).astype(np.uint8).squeeze())"
   ]
  },
  {
   "cell_type": "markdown",
   "id": "ace1c9a0",
   "metadata": {},
   "source": [
    "# Create PGD training dataset & Define a New Model"
   ]
  },
  {
   "cell_type": "code",
   "execution_count": 147,
   "id": "ba5feb25",
   "metadata": {},
   "outputs": [],
   "source": [
    "epochs = 50\n",
    "batch_size = 16\n",
    "\n",
    "tensorX = torch.tensor(PGD_train_adv)\n",
    "tensorY = torch.tensor(y_train_new)\n",
    "tensorY = tensorY.long()\n",
    "dataset_train_PGD = TensorDataset(tensorX, tensorY)\n",
    "attack_train_loader = DataLoader(dataset_train_PGD,\n",
    "                         batch_size = batch_size, shuffle=False)\n",
    "\n",
    "# attack_model = Network()\n",
    "attack_model = md.Network()\n",
    "optimizer=optim.Adam(attack_model.parameters(), lr=0.001)"
   ]
  },
  {
   "cell_type": "markdown",
   "id": "f32d01a7",
   "metadata": {},
   "source": [
    "# Train the PGD training Model & Create PGD classifier"
   ]
  },
  {
   "cell_type": "code",
   "execution_count": 148,
   "id": "4c193041",
   "metadata": {},
   "outputs": [],
   "source": [
    "def train(model, optimizer, train_loader):\n",
    "    model.train()\n",
    "    train_result={'epoch':[], 'loss':[]}\n",
    "\n",
    "    for i in range(epochs):\n",
    "        loss_data=[]\n",
    "        for images, labels in train_loader:\n",
    "            running_time=0\n",
    "\n",
    "            images, labels = Variable(images), Variable(labels)\n",
    "\n",
    "            optimizer.zero_grad()\n",
    "\n",
    "            output = model(images)\n",
    "\n",
    "            loss = nll_loss(output, labels)\n",
    "            loss.backward()\n",
    "            optimizer.step()\n",
    "            loss_data.append(loss.data)\n",
    "\n",
    "        print('Train Epoch: {} \\tLoss: {:.6f}'.format(i, np.mean(loss_data)))\n",
    "        \n",
    "train(attack_model, optimizer, attack_train_loader)\n",
    "\n",
    "pgd_classifier = PyTorchClassifier(model=attack_model,\n",
    "                                    nb_classes=15,\n",
    "                                    clip_values=(0.0, 1.0),\n",
    "                                    input_shape=tuple(train_dataset[0][0].shape[1:]),\n",
    "                                    loss=torch.nn.CrossEntropyLoss())"
   ]
  },
  {
   "cell_type": "markdown",
   "id": "55fd03d8",
   "metadata": {},
   "source": [
    "# Measure the accuracy of the PGD model for origin & PGD Example"
   ]
  },
  {
   "cell_type": "code",
   "execution_count": 160,
   "id": "33a20bc1",
   "metadata": {},
   "outputs": [
    {
     "name": "stdout",
     "output_type": "stream",
     "text": [
      "ORIGIN Accuracy in Attack Model: 0.7352941176470589\n",
      "PGD Accuracy in Attack Model: 0.6764705882352942\n"
     ]
    }
   ],
   "source": [
    "ORIGIN_predictions_pgd = pgd_classifier.predict(x_test_new)\n",
    "PGD_predictions_pgd = pgd_classifier.predict(PGD_test_adv)\n",
    "\n",
    "print(\"ORIGIN Accuracy in Attack Model: \" + str(accuracyOnPredict(ORIGIN_predictions_c2)))\n",
    "print(\"PGD Accuracy in Attack Model: \" + str(accuracyOnPredict(PGD_predictions_c2)))"
   ]
  },
  {
   "cell_type": "markdown",
   "id": "b0114ff6",
   "metadata": {},
   "source": [
    "# Save the PGM Model"
   ]
  },
  {
   "cell_type": "code",
   "execution_count": null,
   "id": "8599185f",
   "metadata": {},
   "outputs": [],
   "source": [
    "torch.save(model,\"./model/pgd_model.pt\")"
   ]
  }
 ],
 "metadata": {
  "kernelspec": {
   "display_name": "Python 3 (ipykernel)",
   "language": "python",
   "name": "python3"
  },
  "language_info": {
   "codemirror_mode": {
    "name": "ipython",
    "version": 3
   },
   "file_extension": ".py",
   "mimetype": "text/x-python",
   "name": "python",
   "nbconvert_exporter": "python",
   "pygments_lexer": "ipython3",
   "version": "3.8.8"
  }
 },
 "nbformat": 4,
 "nbformat_minor": 5
}
